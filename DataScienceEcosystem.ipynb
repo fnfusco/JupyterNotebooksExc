{
  "metadata": {
    "kernelspec": {
      "name": "python",
      "display_name": "Python (Pyodide)",
      "language": "python"
    },
    "language_info": {
      "codemirror_mode": {
        "name": "python",
        "version": 3
      },
      "file_extension": ".py",
      "mimetype": "text/x-python",
      "name": "python",
      "nbconvert_exporter": "python",
      "pygments_lexer": "ipython3",
      "version": "3.8"
    }
  },
  "nbformat_minor": 4,
  "nbformat": 4,
  "cells": [
    {
      "cell_type": "markdown",
      "source": "# H1: DataScienceEcosystem.ipynb",
      "metadata": {}
    },
    {
      "cell_type": "markdown",
      "source": "**In this notebook, Data Science Tools and Ecosystem are summarized.**",
      "metadata": {}
    },
    {
      "cell_type": "markdown",
      "source": "**Some of the popular languages that Data Scientists use are:**\n1. R\n2. Pythin\n3. Julia",
      "metadata": {}
    },
    {
      "cell_type": "markdown",
      "source": "**Some of the commonly used libraries used by Data Scientists include:**\n1. Matplotlib\n2. Seaborn\n3. Plotly\n4. Pandas",
      "metadata": {}
    },
    {
      "cell_type": "markdown",
      "source": "**open source tools used in data science**\n\n|Tools  | \n| ------ |\n| Notebooks Jupyter |\n| Pytorch |\n| MLFlow |",
      "metadata": {}
    },
    {
      "cell_type": "markdown",
      "source": "# h3\n**Below are a few examples of evaluating arithmetic expressions in Python.**\n1. +\n2. -\n3. *\n4. /\n5. //\n6. ** \n7. % \n    \nEx: \n2 + 3\n5 - 2\n4 * 2\n10 / 5\n10 // 3\n2 ** 3 \n10 % 3",
      "metadata": {}
    },
    {
      "cell_type": "code",
      "source": "(3*4)+5",
      "metadata": {
        "trusted": true
      },
      "outputs": [
        {
          "execution_count": 10,
          "output_type": "execute_result",
          "data": {
            "text/plain": "17"
          },
          "metadata": {}
        }
      ],
      "execution_count": 10
    },
    {
      "cell_type": "code",
      "source": "minutes = 200\nhours = 0\nhours = (minutes/60)%60\nhours",
      "metadata": {
        "trusted": true
      },
      "outputs": [
        {
          "execution_count": 14,
          "output_type": "execute_result",
          "data": {
            "text/plain": "3.3333333333333335"
          },
          "metadata": {}
        }
      ],
      "execution_count": 14
    },
    {
      "cell_type": "markdown",
      "source": "**Este exercicio foi usado para nos ensinar a usar python e jupyter nobook para análise de dados**",
      "metadata": {}
    },
    {
      "cell_type": "markdown",
      "source": "## Author: Fusco",
      "metadata": {}
    },
    {
      "cell_type": "code",
      "source": "",
      "metadata": {
        "trusted": true
      },
      "outputs": [],
      "execution_count": null
    }
  ]
}